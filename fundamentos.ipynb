{
 "cells": [
  {
   "cell_type": "code",
   "execution_count": 1,
   "metadata": {},
   "outputs": [
    {
     "name": "stdout",
     "output_type": "stream",
     "text": [
      "epale mundo\n"
     ]
    }
   ],
   "source": [
    "print(\"epale mundo\")"
   ]
  },
  {
   "cell_type": "markdown",
   "metadata": {},
   "source": [
    "### Fundamentos de python\n",
    "* variables\n",
    "* operadores matematicos\n",
    "* operadores logicos\n",
    "* operadores de comparacion\n",
    "* estructuras de control\n",
    "    - Condicionales\n",
    "    - Ciclo finito: for\n",
    "    - Ciclo infinito: while\n",
    "    - Funciones\n",
    "* estructuras de datos\n",
    "    - cadenas de caracteres: string\n",
    "    - numero enteros\n",
    "    - numeros decimales\n",
    "    - listas\n",
    "    - diccionarios\n",
    "    - tuplas"
   ]
  },
  {
   "cell_type": "code",
   "execution_count": null,
   "metadata": {},
   "outputs": [],
   "source": [
    "# Variable\n",
    "\n",
    "name = \"Juan\"\n",
    "Name = \"Pedro\" #NO"
   ]
  },
  {
   "cell_type": "code",
   "execution_count": 14,
   "metadata": {},
   "outputs": [],
   "source": [
    "last_name = \"Perez\"\n",
    "Last_Name = \"Gomez\" #NO\n",
    "LastName = \"Gomez\" #NO, es Javascript"
   ]
  },
  {
   "cell_type": "code",
   "execution_count": 15,
   "metadata": {},
   "outputs": [],
   "source": [
    "# Operadores matematicos\n",
    "\n",
    "number_1 = 10\n",
    "number_2 = 5"
   ]
  },
  {
   "cell_type": "code",
   "execution_count": 18,
   "metadata": {},
   "outputs": [
    {
     "name": "stdout",
     "output_type": "stream",
     "text": [
      "15\n"
     ]
    }
   ],
   "source": [
    "# Suma\n",
    "\n",
    "result = number_1 + number_2\n",
    "print(result) #Print es una funcion que muestra lo que va en parentesis, lo que va dentro de parentesis es un argumento"
   ]
  },
  {
   "cell_type": "code",
   "execution_count": 26,
   "metadata": {},
   "outputs": [
    {
     "name": "stdout",
     "output_type": "stream",
     "text": [
      "5\n"
     ]
    }
   ],
   "source": [
    "#Resta\n",
    "\n",
    "result_sub = number_1 - number_2\n",
    "print(result_sub)"
   ]
  },
  {
   "cell_type": "code",
   "execution_count": 22,
   "metadata": {},
   "outputs": [
    {
     "name": "stdout",
     "output_type": "stream",
     "text": [
      "50\n"
     ]
    }
   ],
   "source": [
    "#Multiplicacion\n",
    "\n",
    "result_mult = number_1 * number_2\n",
    "print(result_mult)"
   ]
  },
  {
   "cell_type": "code",
   "execution_count": 24,
   "metadata": {},
   "outputs": [
    {
     "name": "stdout",
     "output_type": "stream",
     "text": [
      "2.0\n"
     ]
    }
   ],
   "source": [
    "#Division\n",
    "\n",
    "result_div = number_1 / number_2\n",
    "print(result_div)"
   ]
  },
  {
   "cell_type": "code",
   "execution_count": 28,
   "metadata": {},
   "outputs": [
    {
     "data": {
      "text/plain": [
       "int"
      ]
     },
     "execution_count": 28,
     "metadata": {},
     "output_type": "execute_result"
    }
   ],
   "source": [
    "type(result_sub) #Muestra el tipo de dato de la variable"
   ]
  },
  {
   "cell_type": "code",
   "execution_count": 29,
   "metadata": {},
   "outputs": [
    {
     "data": {
      "text/plain": [
       "str"
      ]
     },
     "execution_count": 29,
     "metadata": {},
     "output_type": "execute_result"
    }
   ],
   "source": [
    "type(last_name)"
   ]
  },
  {
   "cell_type": "code",
   "execution_count": 30,
   "metadata": {},
   "outputs": [
    {
     "name": "stdout",
     "output_type": "stream",
     "text": [
      "Perez\n"
     ]
    }
   ],
   "source": [
    "print(last_name)"
   ]
  },
  {
   "cell_type": "code",
   "execution_count": 31,
   "metadata": {},
   "outputs": [],
   "source": [
    "#Operadores de comparacion\n",
    "\n",
    "# == Igualdad\n",
    "# != Diferente\n",
    "# > Mayor que\n",
    "# < Menor que\n",
    "# >= Mayor o igual que\n",
    "# <= Menor o igual que"
   ]
  },
  {
   "cell_type": "code",
   "execution_count": 32,
   "metadata": {},
   "outputs": [],
   "source": [
    "#Operadores booleanos\n",
    "\n",
    "#true\n",
    "#false"
   ]
  },
  {
   "cell_type": "code",
   "execution_count": 33,
   "metadata": {},
   "outputs": [
    {
     "data": {
      "text/plain": [
       "True"
      ]
     },
     "execution_count": 33,
     "metadata": {},
     "output_type": "execute_result"
    }
   ],
   "source": [
    "#Ejemplos Booleanos\n",
    "\n",
    "4 == 4"
   ]
  },
  {
   "cell_type": "code",
   "execution_count": 34,
   "metadata": {},
   "outputs": [
    {
     "data": {
      "text/plain": [
       "False"
      ]
     },
     "execution_count": 34,
     "metadata": {},
     "output_type": "execute_result"
    }
   ],
   "source": [
    "number_1 == number_2"
   ]
  },
  {
   "cell_type": "code",
   "execution_count": 35,
   "metadata": {},
   "outputs": [
    {
     "data": {
      "text/plain": [
       "True"
      ]
     },
     "execution_count": 35,
     "metadata": {},
     "output_type": "execute_result"
    }
   ],
   "source": [
    "number_1 > number_2"
   ]
  },
  {
   "cell_type": "code",
   "execution_count": 36,
   "metadata": {},
   "outputs": [
    {
     "data": {
      "text/plain": [
       "False"
      ]
     },
     "execution_count": 36,
     "metadata": {},
     "output_type": "execute_result"
    }
   ],
   "source": [
    "number_1 <= number_2"
   ]
  },
  {
   "cell_type": "code",
   "execution_count": 42,
   "metadata": {},
   "outputs": [
    {
     "name": "stdout",
     "output_type": "stream",
     "text": [
      "El numero 1 es mayor que el numero 2\n"
     ]
    }
   ],
   "source": [
    "# Condicionales\n",
    "\n",
    "if (number_1 > number_2):\n",
    "    print(\"El numero 1 es mayor que el numero 2\")"
   ]
  },
  {
   "cell_type": "code",
   "execution_count": 45,
   "metadata": {},
   "outputs": [
    {
     "ename": "SyntaxError",
     "evalue": "expected ':' (3097234435.py, line 3)",
     "output_type": "error",
     "traceback": [
      "\u001b[1;36m  Cell \u001b[1;32mIn[45], line 3\u001b[1;36m\u001b[0m\n\u001b[1;33m    if (number_1 > number_2)\u001b[0m\n\u001b[1;37m                            ^\u001b[0m\n\u001b[1;31mSyntaxError\u001b[0m\u001b[1;31m:\u001b[0m expected ':'\n"
     ]
    }
   ],
   "source": [
    "# Condicionales\n",
    "\n",
    "if (number_1 > number_2)\n",
    "    print(\"El numero 1 es mayor que el numero 2\")"
   ]
  },
  {
   "cell_type": "code",
   "execution_count": 46,
   "metadata": {},
   "outputs": [
    {
     "ename": "IndentationError",
     "evalue": "expected an indented block after 'if' statement on line 3 (2233361346.py, line 4)",
     "output_type": "error",
     "traceback": [
      "\u001b[1;36m  Cell \u001b[1;32mIn[46], line 4\u001b[1;36m\u001b[0m\n\u001b[1;33m    print(\"El numero 1 es mayor que el numero 2\")\u001b[0m\n\u001b[1;37m    ^\u001b[0m\n\u001b[1;31mIndentationError\u001b[0m\u001b[1;31m:\u001b[0m expected an indented block after 'if' statement on line 3\n"
     ]
    }
   ],
   "source": [
    "# Condicionales\n",
    "\n",
    "if (number_1 > number_2):\n",
    "print(\"El numero 1 es mayor que el numero 2\")"
   ]
  },
  {
   "cell_type": "code",
   "execution_count": 48,
   "metadata": {},
   "outputs": [
    {
     "name": "stdout",
     "output_type": "stream",
     "text": [
      "El numero 1 es menor que el numero 2\n"
     ]
    }
   ],
   "source": [
    "# Condicionales\n",
    "\n",
    "if (number_1 < number_2):\n",
    "    print(\"El numero 1 es mayor que el numero 2\")\n",
    "else:\n",
    "    print(\"El numero 1 es menor que el numero 2\")"
   ]
  },
  {
   "cell_type": "code",
   "execution_count": 49,
   "metadata": {},
   "outputs": [
    {
     "ename": "SyntaxError",
     "evalue": "invalid syntax (3782203906.py, line 5)",
     "output_type": "error",
     "traceback": [
      "\u001b[1;36m  Cell \u001b[1;32mIn[49], line 5\u001b[1;36m\u001b[0m\n\u001b[1;33m    else:\u001b[0m\n\u001b[1;37m    ^\u001b[0m\n\u001b[1;31mSyntaxError\u001b[0m\u001b[1;31m:\u001b[0m invalid syntax\n"
     ]
    }
   ],
   "source": [
    "# Condicionales\n",
    "\n",
    "if (number_1 < number_2):\n",
    "    print(\"El numero 1 es mayor que el numero 2\")\n",
    "    else:\n",
    "    print(\"El numero 1 es menor que el numero 2\")"
   ]
  },
  {
   "cell_type": "code",
   "execution_count": 51,
   "metadata": {},
   "outputs": [
    {
     "ename": "IndentationError",
     "evalue": "unindent does not match any outer indentation level (<string>, line 5)",
     "output_type": "error",
     "traceback": [
      "\u001b[1;36m  File \u001b[1;32m<string>:5\u001b[1;36m\u001b[0m\n\u001b[1;33m    else:\u001b[0m\n\u001b[1;37m         ^\u001b[0m\n\u001b[1;31mIndentationError\u001b[0m\u001b[1;31m:\u001b[0m unindent does not match any outer indentation level\n"
     ]
    }
   ],
   "source": [
    "# Condicionales\n",
    "\n",
    "if (number_1 < number_2):\n",
    "    print(\"El numero 1 es mayor que el numero 2\")\n",
    " else:\n",
    "    print(\"El numero 1 es menor que el numero 2\")"
   ]
  },
  {
   "cell_type": "code",
   "execution_count": null,
   "metadata": {},
   "outputs": [
    {
     "name": "stdout",
     "output_type": "stream",
     "text": [
      "Los numeros son iguales\n"
     ]
    }
   ],
   "source": [
    "# Condicionales\n",
    "\n",
    "number_1 = 20\n",
    "number_2 = 20\n",
    "\n",
    "if (number_1 > number_2): #Inicio\n",
    "    print(\"El numero 1 es mayor que el numero 2\")\n",
    "elif (number_1 < number_2): #Usar todos los elif necesarios\n",
    "    print(\"El numero 1 es menor que el numero 2\")\n",
    "else: #Ultima opcion\n",
    "    print(\"Los numeros son iguales\")"
   ]
  },
  {
   "cell_type": "code",
   "execution_count": null,
   "metadata": {},
   "outputs": [
    {
     "name": "stdout",
     "output_type": "stream",
     "text": [
      "El numero 1 es mayor que el numero 2 y mayor a 10\n"
     ]
    }
   ],
   "source": [
    "# Condicionales Anidados\n",
    "\n",
    "number_1 = 20\n",
    "number_2 = 10\n",
    "\n",
    "if (number_1 > number_2): #Se pueden colocar aprox 3 condiciones, para no volverlo un desmadre\n",
    "    if number_1 > 10:\n",
    "        print(\"El numero 1 es mayor que el numero 2 y mayor a 10\")\n",
    "elif (number_1 < number_2):\n",
    "    print(\"El numero 1 es menor que el numero 2\")\n",
    "else:\n",
    "    print(\"Los numeros son iguales\")"
   ]
  },
  {
   "cell_type": "code",
   "execution_count": 59,
   "metadata": {},
   "outputs": [
    {
     "name": "stdout",
     "output_type": "stream",
     "text": [
      "El numero 1 es mayor que el numero 2 y mayor a 10\n"
     ]
    }
   ],
   "source": [
    "#Operadores logicos\n",
    "\n",
    "# and\n",
    "# or\n",
    "# not\n",
    "\n",
    "number_1 = 20\n",
    "number_2 = 10\n",
    "\n",
    "if (number_1 > number_2) and (number_1 > 10):\n",
    "        print(\"El numero 1 es mayor que el numero 2 y mayor a 10\")\n",
    "elif (number_1 < number_2):\n",
    "    print(\"El numero 1 es menor que el numero 2\")\n",
    "else:\n",
    "    print(\"Los numeros son iguales\")"
   ]
  },
  {
   "cell_type": "code",
   "execution_count": 63,
   "metadata": {},
   "outputs": [
    {
     "name": "stdout",
     "output_type": "stream",
     "text": [
      "\"20\" es mayor que el \"5\" y mayor a \"10\"\n"
     ]
    }
   ],
   "source": [
    "number_1 = 20\n",
    "number_2 = 5\n",
    "\n",
    "if (number_1 > number_2) and (number_1 > 10):\n",
    "        print(f'\"{number_1}\" es mayor que el \"{number_2}\" y mayor a \"10\"')\n",
    "elif (number_1 < number_2):\n",
    "    print(\"El numero 1 es menor que el numero 2\")\n",
    "else:\n",
    "    print(\"Los numeros son iguales\")"
   ]
  },
  {
   "cell_type": "code",
   "execution_count": null,
   "metadata": {},
   "outputs": [],
   "source": [
    "# Solicitar los nombres de los jugadores\n",
    "jugador1 = input(\"Ingresa el nombre del Jugador 1: \")\n",
    "jugador2 = input(\"Ingresa el nombre del Jugador 2: \")\n",
    "\n",
    "# Solicitar las opciones de juego\n",
    "opcion1 = input(f\"{jugador1}, elige piedra, papel o tijera: \").lower() #Metodos\n",
    "opcion2 = input(f\"{jugador2}, elige piedra, papel o tijera: \").lower()\n",
    "\n",
    "# Validar las opciones ingresadas\n",
    "opciones_validas = [\"piedra\", \"papel\", \"tijera\"]\n",
    "if opcion1 not in opciones_validas or opcion2 not in opciones_validas:\n",
    "    print(\"¡Alguna de las opciones no es válida! Por favor, elige entre piedra, papel o tijera.\")\n",
    "else:\n",
    "    # Determinar el ganador\n",
    "    if opcion1 == opcion2:\n",
    "        print(\"¡Es un empate!\")\n",
    "    elif (opcion1 == \"piedra\" and opcion2 == \"tijera\") or \\\n",
    "         (opcion1 == \"papel\" and opcion2 == \"piedra\") or \\\n",
    "         (opcion1 == \"tijera\" and opcion2 == \"papel\"):\n",
    "        print(f\"¡{jugador1} gana! {opcion1} gana a {opcion2}.\")\n",
    "    else:\n",
    "        print(f\"¡{jugador2} gana! {opcion2} gana a {opcion1}.\")"
   ]
  },
  {
   "cell_type": "code",
   "execution_count": null,
   "metadata": {},
   "outputs": [],
   "source": []
  }
 ],
 "metadata": {
  "kernelspec": {
   "display_name": "Python 3",
   "language": "python",
   "name": "python3"
  },
  "language_info": {
   "codemirror_mode": {
    "name": "ipython",
    "version": 3
   },
   "file_extension": ".py",
   "mimetype": "text/x-python",
   "name": "python",
   "nbconvert_exporter": "python",
   "pygments_lexer": "ipython3",
   "version": "3.13.1"
  }
 },
 "nbformat": 4,
 "nbformat_minor": 2
}
